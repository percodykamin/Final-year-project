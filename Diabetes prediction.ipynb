{
 "cells": [
  {
   "cell_type": "code",
   "execution_count": 1,
   "id": "5d46897d-2e08-4342-9d65-ff0f783745be",
   "metadata": {},
   "outputs": [
    {
     "name": "stderr",
     "output_type": "stream",
     "text": [
      "/home/balde/miniconda3/envs/torch/lib/python3.10/site-packages/tqdm/auto.py:22: TqdmWarning: IProgress not found. Please update jupyter and ipywidgets. See https://ipywidgets.readthedocs.io/en/stable/user_install.html\n",
      "  from .autonotebook import tqdm as notebook_tqdm\n"
     ]
    }
   ],
   "source": [
    "import matplotlib.pyplot as plt\n",
    "import numpy as np\n",
    "import pandas as pd\n",
    "import seaborn as sns\n",
    "from sklearn.ensemble import (\n",
    "    AdaBoostClassifier,\n",
    "    GradientBoostingClassifier,\n",
    "    HistGradientBoostingClassifier,\n",
    "    RandomForestClassifier,\n",
    ")\n",
    "\n",
    "# import classification algorithm\n",
    "from sklearn.linear_model import LogisticRegression\n",
    "\n",
    "# evaluation matrics\n",
    "from sklearn.metrics import (\n",
    "    accuracy_score,\n",
    "    classification_report,\n",
    "    confusion_matrix,\n",
    "    f1_score,\n",
    "    plot_confusion_matrix,\n",
    "    precision_score,\n",
    "    recall_score,\n",
    "    roc_auc_score,\n",
    "    roc_curve,\n",
    ")\n",
    "from sklearn.model_selection import (\n",
    "    KFold,\n",
    "    StratifiedKFold,\n",
    "    cross_val_score,\n",
    "    train_test_split,\n",
    ")\n",
    "from sklearn.neighbors import KNeighborsClassifier\n",
    "\n",
    "# import preprocessing module\n",
    "from sklearn.preprocessing import LabelEncoder, MinMaxScaler, StandardScaler\n",
    "from sklearn.svm import SVC\n",
    "from sklearn.tree import DecisionTreeClassifier\n",
    "from tabpfn import TabPFNClassifier\n",
    "from tqdm import tqdm\n",
    "\n",
    "SEED = 42"
   ]
  },
  {
   "cell_type": "code",
   "execution_count": 2,
   "id": "ca33657c-d80f-4724-99af-faea5c5a7e44",
   "metadata": {},
   "outputs": [],
   "source": [
    "df = pd.read_csv(\"diabetes-data-upload.csv\")\n",
    "data = pd.read_csv(\n",
    "    \"diabetes.xls\",\n",
    ")"
   ]
  },
  {
   "cell_type": "code",
   "execution_count": 3,
   "id": "24147a02-6f99-4880-af3f-1593165b5b57",
   "metadata": {},
   "outputs": [
    {
     "data": {
      "text/plain": [
       "((521, 17), (768, 9))"
      ]
     },
     "execution_count": 3,
     "metadata": {},
     "output_type": "execute_result"
    }
   ],
   "source": [
    "df.shape, data.shape"
   ]
  },
  {
   "cell_type": "code",
   "execution_count": 4,
   "id": "1af34b26-9c00-4e9b-b847-241904cf926c",
   "metadata": {},
   "outputs": [
    {
     "data": {
      "text/html": [
       "<div>\n",
       "<style scoped>\n",
       "    .dataframe tbody tr th:only-of-type {\n",
       "        vertical-align: middle;\n",
       "    }\n",
       "\n",
       "    .dataframe tbody tr th {\n",
       "        vertical-align: top;\n",
       "    }\n",
       "\n",
       "    .dataframe thead th {\n",
       "        text-align: right;\n",
       "    }\n",
       "</style>\n",
       "<table border=\"1\" class=\"dataframe\">\n",
       "  <thead>\n",
       "    <tr style=\"text-align: right;\">\n",
       "      <th></th>\n",
       "      <th>Age</th>\n",
       "      <th>Gender</th>\n",
       "      <th>Polyuria</th>\n",
       "      <th>Polydipsia</th>\n",
       "      <th>sudden weight loss</th>\n",
       "      <th>weakness</th>\n",
       "      <th>Polyphagia</th>\n",
       "      <th>Genital thrush</th>\n",
       "      <th>visual blurring</th>\n",
       "      <th>Itching</th>\n",
       "      <th>Irritability</th>\n",
       "      <th>delayed healing</th>\n",
       "      <th>partial paresis</th>\n",
       "      <th>muscle stiffness</th>\n",
       "      <th>Alopecia</th>\n",
       "      <th>Obesity</th>\n",
       "      <th>class</th>\n",
       "    </tr>\n",
       "  </thead>\n",
       "  <tbody>\n",
       "    <tr>\n",
       "      <th>0</th>\n",
       "      <td>40.0</td>\n",
       "      <td>Male</td>\n",
       "      <td>No</td>\n",
       "      <td>Yes</td>\n",
       "      <td>No</td>\n",
       "      <td>Yes</td>\n",
       "      <td>No</td>\n",
       "      <td>No</td>\n",
       "      <td>No</td>\n",
       "      <td>Yes</td>\n",
       "      <td>No</td>\n",
       "      <td>Yes</td>\n",
       "      <td>No</td>\n",
       "      <td>Yes</td>\n",
       "      <td>Yes</td>\n",
       "      <td>Yes</td>\n",
       "      <td>Positive</td>\n",
       "    </tr>\n",
       "    <tr>\n",
       "      <th>1</th>\n",
       "      <td>58.0</td>\n",
       "      <td>Male</td>\n",
       "      <td>No</td>\n",
       "      <td>No</td>\n",
       "      <td>No</td>\n",
       "      <td>Yes</td>\n",
       "      <td>No</td>\n",
       "      <td>No</td>\n",
       "      <td>Yes</td>\n",
       "      <td>No</td>\n",
       "      <td>No</td>\n",
       "      <td>No</td>\n",
       "      <td>Yes</td>\n",
       "      <td>No</td>\n",
       "      <td>Yes</td>\n",
       "      <td>No</td>\n",
       "      <td>Positive</td>\n",
       "    </tr>\n",
       "    <tr>\n",
       "      <th>2</th>\n",
       "      <td>41.0</td>\n",
       "      <td>Male</td>\n",
       "      <td>Yes</td>\n",
       "      <td>No</td>\n",
       "      <td>No</td>\n",
       "      <td>Yes</td>\n",
       "      <td>Yes</td>\n",
       "      <td>No</td>\n",
       "      <td>No</td>\n",
       "      <td>Yes</td>\n",
       "      <td>No</td>\n",
       "      <td>Yes</td>\n",
       "      <td>No</td>\n",
       "      <td>Yes</td>\n",
       "      <td>Yes</td>\n",
       "      <td>No</td>\n",
       "      <td>Positive</td>\n",
       "    </tr>\n",
       "    <tr>\n",
       "      <th>3</th>\n",
       "      <td>45.0</td>\n",
       "      <td>Male</td>\n",
       "      <td>No</td>\n",
       "      <td>No</td>\n",
       "      <td>Yes</td>\n",
       "      <td>Yes</td>\n",
       "      <td>Yes</td>\n",
       "      <td>Yes</td>\n",
       "      <td>No</td>\n",
       "      <td>Yes</td>\n",
       "      <td>No</td>\n",
       "      <td>Yes</td>\n",
       "      <td>No</td>\n",
       "      <td>No</td>\n",
       "      <td>No</td>\n",
       "      <td>No</td>\n",
       "      <td>Positive</td>\n",
       "    </tr>\n",
       "    <tr>\n",
       "      <th>4</th>\n",
       "      <td>60.0</td>\n",
       "      <td>Male</td>\n",
       "      <td>Yes</td>\n",
       "      <td>Yes</td>\n",
       "      <td>Yes</td>\n",
       "      <td>Yes</td>\n",
       "      <td>Yes</td>\n",
       "      <td>No</td>\n",
       "      <td>Yes</td>\n",
       "      <td>Yes</td>\n",
       "      <td>Yes</td>\n",
       "      <td>Yes</td>\n",
       "      <td>Yes</td>\n",
       "      <td>Yes</td>\n",
       "      <td>Yes</td>\n",
       "      <td>Yes</td>\n",
       "      <td>Positive</td>\n",
       "    </tr>\n",
       "  </tbody>\n",
       "</table>\n",
       "</div>"
      ],
      "text/plain": [
       "    Age Gender Polyuria Polydipsia sudden weight loss weakness Polyphagia  \\\n",
       "0  40.0   Male       No        Yes                 No      Yes         No   \n",
       "1  58.0   Male       No         No                 No      Yes         No   \n",
       "2  41.0   Male      Yes         No                 No      Yes        Yes   \n",
       "3  45.0   Male       No         No                Yes      Yes        Yes   \n",
       "4  60.0   Male      Yes        Yes                Yes      Yes        Yes   \n",
       "\n",
       "  Genital thrush visual blurring Itching Irritability delayed healing  \\\n",
       "0             No              No     Yes           No             Yes   \n",
       "1             No             Yes      No           No              No   \n",
       "2             No              No     Yes           No             Yes   \n",
       "3            Yes              No     Yes           No             Yes   \n",
       "4             No             Yes     Yes          Yes             Yes   \n",
       "\n",
       "  partial paresis muscle stiffness Alopecia Obesity     class  \n",
       "0              No              Yes      Yes     Yes  Positive  \n",
       "1             Yes               No      Yes      No  Positive  \n",
       "2              No              Yes      Yes      No  Positive  \n",
       "3              No               No       No      No  Positive  \n",
       "4             Yes              Yes      Yes     Yes  Positive  "
      ]
     },
     "execution_count": 4,
     "metadata": {},
     "output_type": "execute_result"
    }
   ],
   "source": [
    "df.head()"
   ]
  },
  {
   "cell_type": "code",
   "execution_count": 5,
   "id": "66b89a56-0cac-4c65-bef6-551192e0b62d",
   "metadata": {},
   "outputs": [
    {
     "data": {
      "text/html": [
       "<div>\n",
       "<style scoped>\n",
       "    .dataframe tbody tr th:only-of-type {\n",
       "        vertical-align: middle;\n",
       "    }\n",
       "\n",
       "    .dataframe tbody tr th {\n",
       "        vertical-align: top;\n",
       "    }\n",
       "\n",
       "    .dataframe thead th {\n",
       "        text-align: right;\n",
       "    }\n",
       "</style>\n",
       "<table border=\"1\" class=\"dataframe\">\n",
       "  <thead>\n",
       "    <tr style=\"text-align: right;\">\n",
       "      <th></th>\n",
       "      <th>Pregnancies</th>\n",
       "      <th>Glucose</th>\n",
       "      <th>BloodPressure</th>\n",
       "      <th>SkinThickness</th>\n",
       "      <th>Insulin</th>\n",
       "      <th>BMI</th>\n",
       "      <th>DiabetesPedigreeFunction</th>\n",
       "      <th>Age</th>\n",
       "      <th>Outcome</th>\n",
       "    </tr>\n",
       "  </thead>\n",
       "  <tbody>\n",
       "    <tr>\n",
       "      <th>0</th>\n",
       "      <td>6</td>\n",
       "      <td>148</td>\n",
       "      <td>72</td>\n",
       "      <td>35</td>\n",
       "      <td>0</td>\n",
       "      <td>33.6</td>\n",
       "      <td>0.627</td>\n",
       "      <td>50</td>\n",
       "      <td>1</td>\n",
       "    </tr>\n",
       "    <tr>\n",
       "      <th>1</th>\n",
       "      <td>1</td>\n",
       "      <td>85</td>\n",
       "      <td>66</td>\n",
       "      <td>29</td>\n",
       "      <td>0</td>\n",
       "      <td>26.6</td>\n",
       "      <td>0.351</td>\n",
       "      <td>31</td>\n",
       "      <td>0</td>\n",
       "    </tr>\n",
       "    <tr>\n",
       "      <th>2</th>\n",
       "      <td>8</td>\n",
       "      <td>183</td>\n",
       "      <td>64</td>\n",
       "      <td>0</td>\n",
       "      <td>0</td>\n",
       "      <td>23.3</td>\n",
       "      <td>0.672</td>\n",
       "      <td>32</td>\n",
       "      <td>1</td>\n",
       "    </tr>\n",
       "    <tr>\n",
       "      <th>3</th>\n",
       "      <td>1</td>\n",
       "      <td>89</td>\n",
       "      <td>66</td>\n",
       "      <td>23</td>\n",
       "      <td>94</td>\n",
       "      <td>28.1</td>\n",
       "      <td>0.167</td>\n",
       "      <td>21</td>\n",
       "      <td>0</td>\n",
       "    </tr>\n",
       "    <tr>\n",
       "      <th>4</th>\n",
       "      <td>0</td>\n",
       "      <td>137</td>\n",
       "      <td>40</td>\n",
       "      <td>35</td>\n",
       "      <td>168</td>\n",
       "      <td>43.1</td>\n",
       "      <td>2.288</td>\n",
       "      <td>33</td>\n",
       "      <td>1</td>\n",
       "    </tr>\n",
       "  </tbody>\n",
       "</table>\n",
       "</div>"
      ],
      "text/plain": [
       "   Pregnancies  Glucose  BloodPressure  SkinThickness  Insulin   BMI  \\\n",
       "0            6      148             72             35        0  33.6   \n",
       "1            1       85             66             29        0  26.6   \n",
       "2            8      183             64              0        0  23.3   \n",
       "3            1       89             66             23       94  28.1   \n",
       "4            0      137             40             35      168  43.1   \n",
       "\n",
       "   DiabetesPedigreeFunction  Age  Outcome  \n",
       "0                     0.627   50        1  \n",
       "1                     0.351   31        0  \n",
       "2                     0.672   32        1  \n",
       "3                     0.167   21        0  \n",
       "4                     2.288   33        1  "
      ]
     },
     "execution_count": 5,
     "metadata": {},
     "output_type": "execute_result"
    }
   ],
   "source": [
    "data.head()"
   ]
  },
  {
   "cell_type": "code",
   "execution_count": 6,
   "id": "9b9d9776-e04c-42c7-9946-7958e90d6e8a",
   "metadata": {},
   "outputs": [
    {
     "data": {
      "text/plain": [
       "((521, 17), (768, 9))"
      ]
     },
     "execution_count": 6,
     "metadata": {},
     "output_type": "execute_result"
    }
   ],
   "source": [
    "df.shape, data.shape"
   ]
  },
  {
   "cell_type": "code",
   "execution_count": 7,
   "id": "7d4b7077-f7eb-4eab-b910-234c42ab0234",
   "metadata": {},
   "outputs": [],
   "source": [
    "# For Plot Annotation\n",
    "\n",
    "\n",
    "def without_hue(plot, feature):\n",
    "    total = len(feature)\n",
    "    for p in ax.patches:\n",
    "        percentage = \"{:.1f}%\".format(100 * p.get_height() / total)\n",
    "        x = p.get_x() + p.get_width() / 2 - 0.05\n",
    "        y = p.get_y() + p.get_height()\n",
    "        ax.annotate(percentage, (x, y), size=12)\n",
    "    plt.show()\n",
    "\n",
    "\n",
    "def with_hue(plot, feature, Number_of_categories, hue_categories):\n",
    "    a = [p.get_height() for p in plot.patches]\n",
    "    patch = [p for p in plot.patches]\n",
    "    for i in range(Number_of_categories):\n",
    "        total = feature.value_counts().values[i]\n",
    "        for j in range(hue_categories):\n",
    "            percentage = \"{:.1f}%\".format(\n",
    "                100 * a[(j * Number_of_categories + i)] / total\n",
    "            )\n",
    "            x = (\n",
    "                patch[(j * Number_of_categories + i)].get_x()\n",
    "                + patch[(j * Number_of_categories + i)].get_width() / 2\n",
    "                - 0.15\n",
    "            )\n",
    "            y = (\n",
    "                patch[(j * Number_of_categories + i)].get_y()\n",
    "                + patch[(j * Number_of_categories + i)].get_height()\n",
    "            )\n",
    "            ax.annotate(percentage, (x, y), size=12)\n",
    "    plt.show()"
   ]
  },
  {
   "cell_type": "markdown",
   "id": "e087761f-6bfe-4b28-838b-68719726f600",
   "metadata": {},
   "source": [
    "# Distrubition du target variable."
   ]
  },
  {
   "cell_type": "code",
   "execution_count": 8,
   "id": "10723fd7-1296-481b-9458-90ed98ed1348",
   "metadata": {},
   "outputs": [
    {
     "data": {
      "image/png": "[encoded data removed]",
      "text/plain": [
       "<Figure size 800x500 with 1 Axes>"
      ]
     },
     "metadata": {},
     "output_type": "display_data"
    }
   ],
   "source": [
    "plt.figure(figsize=(8, 5))\n",
    "ax = sns.countplot(\n",
    "    x=\"class\",\n",
    "    data=df,\n",
    "    order=df[\"class\"].value_counts().index,\n",
    ")\n",
    "without_hue(ax, df[\"class\"])"
   ]
  },
  {
   "cell_type": "markdown",
   "id": "6a4b6409-987d-4aa7-8ce0-8c85b21bfce7",
   "metadata": {},
   "source": [
    "# Distribution de l'age de patient."
   ]
  },
  {
   "cell_type": "code",
   "execution_count": 9,
   "id": "8f6aa4a3-6327-44f2-8287-83e548330563",
   "metadata": {},
   "outputs": [
    {
     "data": {
      "image/png": "[encoded data removed]",
      "text/plain": [
       "<Figure size 1700x700 with 1 Axes>"
      ]
     },
     "metadata": {},
     "output_type": "display_data"
    }
   ],
   "source": [
    "plt.figure(figsize=(17, 7))\n",
    "df.Age.value_counts().plot(kind=\"bar\")\n",
    "plt.ylabel(\"Frequency\")\n",
    "plt.xlabel(\"Age\")\n",
    "plt.show()"
   ]
  },
  {
   "cell_type": "markdown",
   "id": "a26157c8-ae12-4f38-aa38-b8f73274e370",
   "metadata": {},
   "source": [
    "# Distribution d'Obesity base on age."
   ]
  },
  {
   "cell_type": "code",
   "execution_count": 10,
   "id": "f7798865-68e1-4e1f-b5de-f0874fe9b0a1",
   "metadata": {},
   "outputs": [
    {
     "data": {
      "image/png": "[encoded data removed]",
      "text/plain": [
       "<Figure size 800x500 with 1 Axes>"
      ]
     },
     "metadata": {},
     "output_type": "display_data"
    }
   ],
   "source": [
    "plt.figure(figsize=(8, 5))\n",
    "ax = sns.countplot(\n",
    "    x=\"Obesity\",\n",
    "    data=df,\n",
    "    order=df[\"Obesity\"].value_counts().index,\n",
    ")\n",
    "without_hue(ax, df[\"Obesity\"])"
   ]
  },
  {
   "cell_type": "code",
   "execution_count": 11,
   "id": "1844a8fc-2457-47cc-9a32-286c7bf61b66",
   "metadata": {},
   "outputs": [
    {
     "data": {
      "text/html": [
       "<div>\n",
       "<style scoped>\n",
       "    .dataframe tbody tr th:only-of-type {\n",
       "        vertical-align: middle;\n",
       "    }\n",
       "\n",
       "    .dataframe tbody tr th {\n",
       "        vertical-align: top;\n",
       "    }\n",
       "\n",
       "    .dataframe thead th {\n",
       "        text-align: right;\n",
       "    }\n",
       "</style>\n",
       "<table border=\"1\" class=\"dataframe\">\n",
       "  <thead>\n",
       "    <tr style=\"text-align: right;\">\n",
       "      <th></th>\n",
       "      <th>Age</th>\n",
       "      <th>Gender</th>\n",
       "      <th>Polyuria</th>\n",
       "      <th>Polydipsia</th>\n",
       "      <th>sudden weight loss</th>\n",
       "      <th>weakness</th>\n",
       "      <th>Polyphagia</th>\n",
       "      <th>Genital thrush</th>\n",
       "      <th>visual blurring</th>\n",
       "      <th>Itching</th>\n",
       "      <th>Irritability</th>\n",
       "      <th>delayed healing</th>\n",
       "      <th>partial paresis</th>\n",
       "      <th>muscle stiffness</th>\n",
       "      <th>Alopecia</th>\n",
       "      <th>Obesity</th>\n",
       "      <th>class</th>\n",
       "    </tr>\n",
       "  </thead>\n",
       "  <tbody>\n",
       "    <tr>\n",
       "      <th>0</th>\n",
       "      <td>40.0</td>\n",
       "      <td>Male</td>\n",
       "      <td>No</td>\n",
       "      <td>Yes</td>\n",
       "      <td>No</td>\n",
       "      <td>Yes</td>\n",
       "      <td>No</td>\n",
       "      <td>No</td>\n",
       "      <td>No</td>\n",
       "      <td>Yes</td>\n",
       "      <td>No</td>\n",
       "      <td>Yes</td>\n",
       "      <td>No</td>\n",
       "      <td>Yes</td>\n",
       "      <td>Yes</td>\n",
       "      <td>Yes</td>\n",
       "      <td>Positive</td>\n",
       "    </tr>\n",
       "    <tr>\n",
       "      <th>1</th>\n",
       "      <td>58.0</td>\n",
       "      <td>Male</td>\n",
       "      <td>No</td>\n",
       "      <td>No</td>\n",
       "      <td>No</td>\n",
       "      <td>Yes</td>\n",
       "      <td>No</td>\n",
       "      <td>No</td>\n",
       "      <td>Yes</td>\n",
       "      <td>No</td>\n",
       "      <td>No</td>\n",
       "      <td>No</td>\n",
       "      <td>Yes</td>\n",
       "      <td>No</td>\n",
       "      <td>Yes</td>\n",
       "      <td>No</td>\n",
       "      <td>Positive</td>\n",
       "    </tr>\n",
       "    <tr>\n",
       "      <th>2</th>\n",
       "      <td>41.0</td>\n",
       "      <td>Male</td>\n",
       "      <td>Yes</td>\n",
       "      <td>No</td>\n",
       "      <td>No</td>\n",
       "      <td>Yes</td>\n",
       "      <td>Yes</td>\n",
       "      <td>No</td>\n",
       "      <td>No</td>\n",
       "      <td>Yes</td>\n",
       "      <td>No</td>\n",
       "      <td>Yes</td>\n",
       "      <td>No</td>\n",
       "      <td>Yes</td>\n",
       "      <td>Yes</td>\n",
       "      <td>No</td>\n",
       "      <td>Positive</td>\n",
       "    </tr>\n",
       "    <tr>\n",
       "      <th>3</th>\n",
       "      <td>45.0</td>\n",
       "      <td>Male</td>\n",
       "      <td>No</td>\n",
       "      <td>No</td>\n",
       "      <td>Yes</td>\n",
       "      <td>Yes</td>\n",
       "      <td>Yes</td>\n",
       "      <td>Yes</td>\n",
       "      <td>No</td>\n",
       "      <td>Yes</td>\n",
       "      <td>No</td>\n",
       "      <td>Yes</td>\n",
       "      <td>No</td>\n",
       "      <td>No</td>\n",
       "      <td>No</td>\n",
       "      <td>No</td>\n",
       "      <td>Positive</td>\n",
       "    </tr>\n",
       "    <tr>\n",
       "      <th>4</th>\n",
       "      <td>60.0</td>\n",
       "      <td>Male</td>\n",
       "      <td>Yes</td>\n",
       "      <td>Yes</td>\n",
       "      <td>Yes</td>\n",
       "      <td>Yes</td>\n",
       "      <td>Yes</td>\n",
       "      <td>No</td>\n",
       "      <td>Yes</td>\n",
       "      <td>Yes</td>\n",
       "      <td>Yes</td>\n",
       "      <td>Yes</td>\n",
       "      <td>Yes</td>\n",
       "      <td>Yes</td>\n",
       "      <td>Yes</td>\n",
       "      <td>Yes</td>\n",
       "      <td>Positive</td>\n",
       "    </tr>\n",
       "  </tbody>\n",
       "</table>\n",
       "</div>"
      ],
      "text/plain": [
       "    Age Gender Polyuria Polydipsia sudden weight loss weakness Polyphagia  \\\n",
       "0  40.0   Male       No        Yes                 No      Yes         No   \n",
       "1  58.0   Male       No         No                 No      Yes         No   \n",
       "2  41.0   Male      Yes         No                 No      Yes        Yes   \n",
       "3  45.0   Male       No         No                Yes      Yes        Yes   \n",
       "4  60.0   Male      Yes        Yes                Yes      Yes        Yes   \n",
       "\n",
       "  Genital thrush visual blurring Itching Irritability delayed healing  \\\n",
       "0             No              No     Yes           No             Yes   \n",
       "1             No             Yes      No           No              No   \n",
       "2             No              No     Yes           No             Yes   \n",
       "3            Yes              No     Yes           No             Yes   \n",
       "4             No             Yes     Yes          Yes             Yes   \n",
       "\n",
       "  partial paresis muscle stiffness Alopecia Obesity     class  \n",
       "0              No              Yes      Yes     Yes  Positive  \n",
       "1             Yes               No      Yes      No  Positive  \n",
       "2              No              Yes      Yes      No  Positive  \n",
       "3              No               No       No      No  Positive  \n",
       "4             Yes              Yes      Yes     Yes  Positive  "
      ]
     },
     "execution_count": 11,
     "metadata": {},
     "output_type": "execute_result"
    }
   ],
   "source": [
    "df.head()"
   ]
  },
  {
   "cell_type": "code",
   "execution_count": 12,
   "id": "c2a7a3b5-ea97-411c-83fc-8fb70bcd2ce6",
   "metadata": {},
   "outputs": [
    {
     "data": {
      "image/png": "[encoded data removed]",
      "text/plain": [
       "<Figure size 800x500 with 1 Axes>"
      ]
     },
     "metadata": {},
     "output_type": "display_data"
    }
   ],
   "source": [
    "plt.figure(figsize=(8, 5))\n",
    "ax = sns.countplot(\n",
    "    x=\"class\",\n",
    "    data=df,\n",
    "    order=df[\"class\"].value_counts().index,\n",
    ")\n",
    "without_hue(ax, df[\"class\"])"
   ]
  },
  {
   "cell_type": "code",
   "execution_count": 13,
   "id": "e6190b56-a86a-4e1b-8e5b-5159cb712d10",
   "metadata": {},
   "outputs": [
    {
     "data": {
      "image/png": "[encoded data removed]",
      "text/plain": [
       "<Figure size 612.5x500 with 1 Axes>"
      ]
     },
     "metadata": {},
     "output_type": "display_data"
    }
   ],
   "source": [
    "sns.catplot(x=\"weakness\", data=df, kind=\"count\", hue=\"class\")\n",
    "plt.show()"
   ]
  },
  {
   "cell_type": "markdown",
   "id": "e5b299b8-4093-4fb1-8581-16d8934e2744",
   "metadata": {
    "tags": []
   },
   "source": [
    "# Now we are going to convert the categorical variable into numerial using Label ENcoder.\n",
    "LabelEncoder is a utility class to help normalize labels such that they contain only values between 0 and n_classes-1<br>\n",
    "we are going to use it to change our class positive to 1 and negative to 0. "
   ]
  },
  {
   "cell_type": "code",
   "execution_count": 14,
   "id": "075b443f-1814-4aa6-9ebe-47720897c40f",
   "metadata": {},
   "outputs": [],
   "source": [
    "df[\"class\"] = df[\"class\"].map({\"Positive\": 1, \"Negative\": 0})"
   ]
  },
  {
   "cell_type": "code",
   "execution_count": 15,
   "id": "85b19684-2028-4ed9-89e3-84fbee968e23",
   "metadata": {},
   "outputs": [
    {
     "data": {
      "text/plain": [
       "Age                   0\n",
       "Gender                0\n",
       "Polyuria              0\n",
       "Polydipsia            0\n",
       "sudden weight loss    0\n",
       "weakness              0\n",
       "Polyphagia            0\n",
       "Genital thrush        0\n",
       "visual blurring       0\n",
       "Itching               0\n",
       "Irritability          0\n",
       "delayed healing       0\n",
       "partial paresis       0\n",
       "muscle stiffness      0\n",
       "Alopecia              0\n",
       "Obesity               0\n",
       "class                 0\n",
       "dtype: int64"
      ]
     },
     "execution_count": 15,
     "metadata": {},
     "output_type": "execute_result"
    }
   ],
   "source": [
    "df.dropna(how=\"any\", inplace=True)\n",
    "df.isna().sum()"
   ]
  },
  {
   "cell_type": "markdown",
   "id": "e0745ecd-43fa-4499-afa1-f6c0f572a14e",
   "metadata": {},
   "source": [
    "Now we are going to Encode all categorical varable with the help of lable encoder because it's not ordered object.\n",
    "\n",
    "Here we are going to encode all categorical variable using the for loop below.<br> we are going to first find all the columns in the dataset where the dtype is **object** meaning that the column is categorical we will fit and transform with our **LabelEncoder()** object that we create on the cell above."
   ]
  },
  {
   "cell_type": "code",
   "execution_count": 16,
   "id": "57b7ddfa-fc6e-4ffd-b63e-6939fb0af3e3",
   "metadata": {},
   "outputs": [
    {
     "name": "stderr",
     "output_type": "stream",
     "text": [
      "100%|███████████████████████████████████████████████████████████████████████████| 17/17 [00:00<00:00, 1633.11it/s]\n"
     ]
    },
    {
     "data": {
      "text/html": [
       "<div>\n",
       "<style scoped>\n",
       "    .dataframe tbody tr th:only-of-type {\n",
       "        vertical-align: middle;\n",
       "    }\n",
       "\n",
       "    .dataframe tbody tr th {\n",
       "        vertical-align: top;\n",
       "    }\n",
       "\n",
       "    .dataframe thead th {\n",
       "        text-align: right;\n",
       "    }\n",
       "</style>\n",
       "<table border=\"1\" class=\"dataframe\">\n",
       "  <thead>\n",
       "    <tr style=\"text-align: right;\">\n",
       "      <th></th>\n",
       "      <th>Age</th>\n",
       "      <th>Gender</th>\n",
       "      <th>Polyuria</th>\n",
       "      <th>Polydipsia</th>\n",
       "      <th>sudden weight loss</th>\n",
       "      <th>weakness</th>\n",
       "      <th>Polyphagia</th>\n",
       "      <th>Genital thrush</th>\n",
       "      <th>visual blurring</th>\n",
       "      <th>Itching</th>\n",
       "      <th>Irritability</th>\n",
       "      <th>delayed healing</th>\n",
       "      <th>partial paresis</th>\n",
       "      <th>muscle stiffness</th>\n",
       "      <th>Alopecia</th>\n",
       "      <th>Obesity</th>\n",
       "      <th>class</th>\n",
       "    </tr>\n",
       "  </thead>\n",
       "  <tbody>\n",
       "    <tr>\n",
       "      <th>0</th>\n",
       "      <td>40.0</td>\n",
       "      <td>1</td>\n",
       "      <td>0</td>\n",
       "      <td>1</td>\n",
       "      <td>0</td>\n",
       "      <td>1</td>\n",
       "      <td>0</td>\n",
       "      <td>0</td>\n",
       "      <td>0</td>\n",
       "      <td>1</td>\n",
       "      <td>0</td>\n",
       "      <td>1</td>\n",
       "      <td>0</td>\n",
       "      <td>1</td>\n",
       "      <td>1</td>\n",
       "      <td>1</td>\n",
       "      <td>1.0</td>\n",
       "    </tr>\n",
       "    <tr>\n",
       "      <th>1</th>\n",
       "      <td>58.0</td>\n",
       "      <td>1</td>\n",
       "      <td>0</td>\n",
       "      <td>0</td>\n",
       "      <td>0</td>\n",
       "      <td>1</td>\n",
       "      <td>0</td>\n",
       "      <td>0</td>\n",
       "      <td>1</td>\n",
       "      <td>0</td>\n",
       "      <td>0</td>\n",
       "      <td>0</td>\n",
       "      <td>1</td>\n",
       "      <td>0</td>\n",
       "      <td>1</td>\n",
       "      <td>0</td>\n",
       "      <td>1.0</td>\n",
       "    </tr>\n",
       "    <tr>\n",
       "      <th>2</th>\n",
       "      <td>41.0</td>\n",
       "      <td>1</td>\n",
       "      <td>1</td>\n",
       "      <td>0</td>\n",
       "      <td>0</td>\n",
       "      <td>1</td>\n",
       "      <td>1</td>\n",
       "      <td>0</td>\n",
       "      <td>0</td>\n",
       "      <td>1</td>\n",
       "      <td>0</td>\n",
       "      <td>1</td>\n",
       "      <td>0</td>\n",
       "      <td>1</td>\n",
       "      <td>1</td>\n",
       "      <td>0</td>\n",
       "      <td>1.0</td>\n",
       "    </tr>\n",
       "    <tr>\n",
       "      <th>3</th>\n",
       "      <td>45.0</td>\n",
       "      <td>1</td>\n",
       "      <td>0</td>\n",
       "      <td>0</td>\n",
       "      <td>1</td>\n",
       "      <td>1</td>\n",
       "      <td>1</td>\n",
       "      <td>1</td>\n",
       "      <td>0</td>\n",
       "      <td>1</td>\n",
       "      <td>0</td>\n",
       "      <td>1</td>\n",
       "      <td>0</td>\n",
       "      <td>0</td>\n",
       "      <td>0</td>\n",
       "      <td>0</td>\n",
       "      <td>1.0</td>\n",
       "    </tr>\n",
       "    <tr>\n",
       "      <th>4</th>\n",
       "      <td>60.0</td>\n",
       "      <td>1</td>\n",
       "      <td>1</td>\n",
       "      <td>1</td>\n",
       "      <td>1</td>\n",
       "      <td>1</td>\n",
       "      <td>1</td>\n",
       "      <td>0</td>\n",
       "      <td>1</td>\n",
       "      <td>1</td>\n",
       "      <td>1</td>\n",
       "      <td>1</td>\n",
       "      <td>1</td>\n",
       "      <td>1</td>\n",
       "      <td>1</td>\n",
       "      <td>1</td>\n",
       "      <td>1.0</td>\n",
       "    </tr>\n",
       "  </tbody>\n",
       "</table>\n",
       "</div>"
      ],
      "text/plain": [
       "    Age  Gender  Polyuria  Polydipsia  sudden weight loss  weakness  \\\n",
       "0  40.0       1         0           1                   0         1   \n",
       "1  58.0       1         0           0                   0         1   \n",
       "2  41.0       1         1           0                   0         1   \n",
       "3  45.0       1         0           0                   1         1   \n",
       "4  60.0       1         1           1                   1         1   \n",
       "\n",
       "   Polyphagia  Genital thrush  visual blurring  Itching  Irritability  \\\n",
       "0           0               0                0        1             0   \n",
       "1           0               0                1        0             0   \n",
       "2           1               0                0        1             0   \n",
       "3           1               1                0        1             0   \n",
       "4           1               0                1        1             1   \n",
       "\n",
       "   delayed healing  partial paresis  muscle stiffness  Alopecia  Obesity  \\\n",
       "0                1                0                 1         1        1   \n",
       "1                0                1                 0         1        0   \n",
       "2                1                0                 1         1        0   \n",
       "3                1                0                 0         0        0   \n",
       "4                1                1                 1         1        1   \n",
       "\n",
       "   class  \n",
       "0    1.0  \n",
       "1    1.0  \n",
       "2    1.0  \n",
       "3    1.0  \n",
       "4    1.0  "
      ]
     },
     "execution_count": 16,
     "metadata": {},
     "output_type": "execute_result"
    }
   ],
   "source": [
    "le = LabelEncoder()\n",
    "for col in tqdm(df.columns.to_list()):\n",
    "    if df[col].dtype == \"object\":\n",
    "        df[col] = le.fit_transform(df[col])\n",
    "\n",
    "df.head()"
   ]
  },
  {
   "cell_type": "code",
   "execution_count": 17,
   "id": "acff6671-c29f-450f-9e66-e1457b2d6aae",
   "metadata": {},
   "outputs": [
    {
     "data": {
      "text/plain": [
       "1.0    320\n",
       "0.0    200\n",
       "Name: class, dtype: int64"
      ]
     },
     "execution_count": 17,
     "metadata": {},
     "output_type": "execute_result"
    }
   ],
   "source": [
    "df[\"class\"].value_counts()"
   ]
  },
  {
   "cell_type": "markdown",
   "id": "48ff36d4-a857-4811-9e09-225d0af53641",
   "metadata": {},
   "source": [
    "#### After runing the cell above we can see that all other categorical data is encode into values(numbers from 0 to n-1)"
   ]
  },
  {
   "cell_type": "markdown",
   "id": "2e97024f-eb2f-4a5d-b139-e72e315131ee",
   "metadata": {},
   "source": [
    "# Now we are selecting the X and y variable.\n",
    "Here **X** is the features variable such as weakness visual Itching and so on and **y** is our target(label) variable meaning the class column<br>"
   ]
  },
  {
   "cell_type": "code",
   "execution_count": 18,
   "id": "fca2d992-aa96-4256-b46e-5b8e13f6476d",
   "metadata": {},
   "outputs": [],
   "source": [
    "X = df.drop(\"class\", axis=1)\n",
    "y = df[\"class\"]"
   ]
  },
  {
   "cell_type": "code",
   "execution_count": 19,
   "id": "1fe04ba3-9ac2-47be-b819-c99183e8d1e9",
   "metadata": {},
   "outputs": [
    {
     "data": {
      "text/html": [
       "<div>\n",
       "<style scoped>\n",
       "    .dataframe tbody tr th:only-of-type {\n",
       "        vertical-align: middle;\n",
       "    }\n",
       "\n",
       "    .dataframe tbody tr th {\n",
       "        vertical-align: top;\n",
       "    }\n",
       "\n",
       "    .dataframe thead th {\n",
       "        text-align: right;\n",
       "    }\n",
       "</style>\n",
       "<table border=\"1\" class=\"dataframe\">\n",
       "  <thead>\n",
       "    <tr style=\"text-align: right;\">\n",
       "      <th></th>\n",
       "      <th>Age</th>\n",
       "      <th>Gender</th>\n",
       "      <th>Polyuria</th>\n",
       "      <th>Polydipsia</th>\n",
       "      <th>sudden weight loss</th>\n",
       "      <th>weakness</th>\n",
       "      <th>Polyphagia</th>\n",
       "      <th>Genital thrush</th>\n",
       "      <th>visual blurring</th>\n",
       "      <th>Itching</th>\n",
       "      <th>Irritability</th>\n",
       "      <th>delayed healing</th>\n",
       "      <th>partial paresis</th>\n",
       "      <th>muscle stiffness</th>\n",
       "      <th>Alopecia</th>\n",
       "      <th>Obesity</th>\n",
       "    </tr>\n",
       "  </thead>\n",
       "  <tbody>\n",
       "    <tr>\n",
       "      <th>0</th>\n",
       "      <td>40.0</td>\n",
       "      <td>1</td>\n",
       "      <td>0</td>\n",
       "      <td>1</td>\n",
       "      <td>0</td>\n",
       "      <td>1</td>\n",
       "      <td>0</td>\n",
       "      <td>0</td>\n",
       "      <td>0</td>\n",
       "      <td>1</td>\n",
       "      <td>0</td>\n",
       "      <td>1</td>\n",
       "      <td>0</td>\n",
       "      <td>1</td>\n",
       "      <td>1</td>\n",
       "      <td>1</td>\n",
       "    </tr>\n",
       "    <tr>\n",
       "      <th>1</th>\n",
       "      <td>58.0</td>\n",
       "      <td>1</td>\n",
       "      <td>0</td>\n",
       "      <td>0</td>\n",
       "      <td>0</td>\n",
       "      <td>1</td>\n",
       "      <td>0</td>\n",
       "      <td>0</td>\n",
       "      <td>1</td>\n",
       "      <td>0</td>\n",
       "      <td>0</td>\n",
       "      <td>0</td>\n",
       "      <td>1</td>\n",
       "      <td>0</td>\n",
       "      <td>1</td>\n",
       "      <td>0</td>\n",
       "    </tr>\n",
       "    <tr>\n",
       "      <th>2</th>\n",
       "      <td>41.0</td>\n",
       "      <td>1</td>\n",
       "      <td>1</td>\n",
       "      <td>0</td>\n",
       "      <td>0</td>\n",
       "      <td>1</td>\n",
       "      <td>1</td>\n",
       "      <td>0</td>\n",
       "      <td>0</td>\n",
       "      <td>1</td>\n",
       "      <td>0</td>\n",
       "      <td>1</td>\n",
       "      <td>0</td>\n",
       "      <td>1</td>\n",
       "      <td>1</td>\n",
       "      <td>0</td>\n",
       "    </tr>\n",
       "    <tr>\n",
       "      <th>3</th>\n",
       "      <td>45.0</td>\n",
       "      <td>1</td>\n",
       "      <td>0</td>\n",
       "      <td>0</td>\n",
       "      <td>1</td>\n",
       "      <td>1</td>\n",
       "      <td>1</td>\n",
       "      <td>1</td>\n",
       "      <td>0</td>\n",
       "      <td>1</td>\n",
       "      <td>0</td>\n",
       "      <td>1</td>\n",
       "      <td>0</td>\n",
       "      <td>0</td>\n",
       "      <td>0</td>\n",
       "      <td>0</td>\n",
       "    </tr>\n",
       "    <tr>\n",
       "      <th>4</th>\n",
       "      <td>60.0</td>\n",
       "      <td>1</td>\n",
       "      <td>1</td>\n",
       "      <td>1</td>\n",
       "      <td>1</td>\n",
       "      <td>1</td>\n",
       "      <td>1</td>\n",
       "      <td>0</td>\n",
       "      <td>1</td>\n",
       "      <td>1</td>\n",
       "      <td>1</td>\n",
       "      <td>1</td>\n",
       "      <td>1</td>\n",
       "      <td>1</td>\n",
       "      <td>1</td>\n",
       "      <td>1</td>\n",
       "    </tr>\n",
       "  </tbody>\n",
       "</table>\n",
       "</div>"
      ],
      "text/plain": [
       "    Age  Gender  Polyuria  Polydipsia  sudden weight loss  weakness  \\\n",
       "0  40.0       1         0           1                   0         1   \n",
       "1  58.0       1         0           0                   0         1   \n",
       "2  41.0       1         1           0                   0         1   \n",
       "3  45.0       1         0           0                   1         1   \n",
       "4  60.0       1         1           1                   1         1   \n",
       "\n",
       "   Polyphagia  Genital thrush  visual blurring  Itching  Irritability  \\\n",
       "0           0               0                0        1             0   \n",
       "1           0               0                1        0             0   \n",
       "2           1               0                0        1             0   \n",
       "3           1               1                0        1             0   \n",
       "4           1               0                1        1             1   \n",
       "\n",
       "   delayed healing  partial paresis  muscle stiffness  Alopecia  Obesity  \n",
       "0                1                0                 1         1        1  \n",
       "1                0                1                 0         1        0  \n",
       "2                1                0                 1         1        0  \n",
       "3                1                0                 0         0        0  \n",
       "4                1                1                 1         1        1  "
      ]
     },
     "execution_count": 19,
     "metadata": {},
     "output_type": "execute_result"
    }
   ],
   "source": [
    "X.head()"
   ]
  },
  {
   "cell_type": "code",
   "execution_count": 20,
   "id": "595270a2-a0b0-4c47-88fb-7962afe4083e",
   "metadata": {},
   "outputs": [
    {
     "data": {
      "text/plain": [
       "1.0    320\n",
       "0.0    200\n",
       "Name: class, dtype: int64"
      ]
     },
     "execution_count": 20,
     "metadata": {},
     "output_type": "execute_result"
    }
   ],
   "source": [
    "y.value_counts()"
   ]
  },
  {
   "cell_type": "markdown",
   "id": "7109a81c-c432-4b51-8d18-854d2df6a69b",
   "metadata": {},
   "source": [
    "We are going to standarize the data."
   ]
  },
  {
   "cell_type": "code",
   "execution_count": 21,
   "id": "2329fbdc-899c-4d1b-a54a-87619f9c9c96",
   "metadata": {},
   "outputs": [],
   "source": [
    "# from sklearn.impute import SimpleImputer\n",
    "# from sklearn.pipeline import Pipeline\n",
    "\n",
    "# pipeline = Pipeline(\n",
    "#     [\n",
    "#         (\"impute\", SimpleImputer()),\n",
    "#         (\"scaler\", StandardScaler()),\n",
    "#         # ('scale', RobustScaler())\n",
    "#         # ('quantiletransform', QuantileTransformer(random_state=seed))\n",
    "#     ]\n",
    "# )\n",
    "\n",
    "# X = pd.DataFrame(columns=X.columns, data=pipeline.fit_transform(X))"
   ]
  },
  {
   "cell_type": "code",
   "execution_count": 22,
   "id": "5c11ffe7-2bbb-48c2-b25a-f3b3db596659",
   "metadata": {},
   "outputs": [
    {
     "data": {
      "text/html": [
       "<div>\n",
       "<style scoped>\n",
       "    .dataframe tbody tr th:only-of-type {\n",
       "        vertical-align: middle;\n",
       "    }\n",
       "\n",
       "    .dataframe tbody tr th {\n",
       "        vertical-align: top;\n",
       "    }\n",
       "\n",
       "    .dataframe thead th {\n",
       "        text-align: right;\n",
       "    }\n",
       "</style>\n",
       "<table border=\"1\" class=\"dataframe\">\n",
       "  <thead>\n",
       "    <tr style=\"text-align: right;\">\n",
       "      <th></th>\n",
       "      <th>Age</th>\n",
       "      <th>Gender</th>\n",
       "      <th>Polyuria</th>\n",
       "      <th>Polydipsia</th>\n",
       "      <th>sudden weight loss</th>\n",
       "      <th>weakness</th>\n",
       "      <th>Polyphagia</th>\n",
       "      <th>Genital thrush</th>\n",
       "      <th>visual blurring</th>\n",
       "      <th>Itching</th>\n",
       "      <th>Irritability</th>\n",
       "      <th>delayed healing</th>\n",
       "      <th>partial paresis</th>\n",
       "      <th>muscle stiffness</th>\n",
       "      <th>Alopecia</th>\n",
       "      <th>Obesity</th>\n",
       "    </tr>\n",
       "  </thead>\n",
       "  <tbody>\n",
       "    <tr>\n",
       "      <th>0</th>\n",
       "      <td>40.0</td>\n",
       "      <td>1</td>\n",
       "      <td>0</td>\n",
       "      <td>1</td>\n",
       "      <td>0</td>\n",
       "      <td>1</td>\n",
       "      <td>0</td>\n",
       "      <td>0</td>\n",
       "      <td>0</td>\n",
       "      <td>1</td>\n",
       "      <td>0</td>\n",
       "      <td>1</td>\n",
       "      <td>0</td>\n",
       "      <td>1</td>\n",
       "      <td>1</td>\n",
       "      <td>1</td>\n",
       "    </tr>\n",
       "    <tr>\n",
       "      <th>1</th>\n",
       "      <td>58.0</td>\n",
       "      <td>1</td>\n",
       "      <td>0</td>\n",
       "      <td>0</td>\n",
       "      <td>0</td>\n",
       "      <td>1</td>\n",
       "      <td>0</td>\n",
       "      <td>0</td>\n",
       "      <td>1</td>\n",
       "      <td>0</td>\n",
       "      <td>0</td>\n",
       "      <td>0</td>\n",
       "      <td>1</td>\n",
       "      <td>0</td>\n",
       "      <td>1</td>\n",
       "      <td>0</td>\n",
       "    </tr>\n",
       "    <tr>\n",
       "      <th>2</th>\n",
       "      <td>41.0</td>\n",
       "      <td>1</td>\n",
       "      <td>1</td>\n",
       "      <td>0</td>\n",
       "      <td>0</td>\n",
       "      <td>1</td>\n",
       "      <td>1</td>\n",
       "      <td>0</td>\n",
       "      <td>0</td>\n",
       "      <td>1</td>\n",
       "      <td>0</td>\n",
       "      <td>1</td>\n",
       "      <td>0</td>\n",
       "      <td>1</td>\n",
       "      <td>1</td>\n",
       "      <td>0</td>\n",
       "    </tr>\n",
       "    <tr>\n",
       "      <th>3</th>\n",
       "      <td>45.0</td>\n",
       "      <td>1</td>\n",
       "      <td>0</td>\n",
       "      <td>0</td>\n",
       "      <td>1</td>\n",
       "      <td>1</td>\n",
       "      <td>1</td>\n",
       "      <td>1</td>\n",
       "      <td>0</td>\n",
       "      <td>1</td>\n",
       "      <td>0</td>\n",
       "      <td>1</td>\n",
       "      <td>0</td>\n",
       "      <td>0</td>\n",
       "      <td>0</td>\n",
       "      <td>0</td>\n",
       "    </tr>\n",
       "    <tr>\n",
       "      <th>4</th>\n",
       "      <td>60.0</td>\n",
       "      <td>1</td>\n",
       "      <td>1</td>\n",
       "      <td>1</td>\n",
       "      <td>1</td>\n",
       "      <td>1</td>\n",
       "      <td>1</td>\n",
       "      <td>0</td>\n",
       "      <td>1</td>\n",
       "      <td>1</td>\n",
       "      <td>1</td>\n",
       "      <td>1</td>\n",
       "      <td>1</td>\n",
       "      <td>1</td>\n",
       "      <td>1</td>\n",
       "      <td>1</td>\n",
       "    </tr>\n",
       "  </tbody>\n",
       "</table>\n",
       "</div>"
      ],
      "text/plain": [
       "    Age  Gender  Polyuria  Polydipsia  sudden weight loss  weakness  \\\n",
       "0  40.0       1         0           1                   0         1   \n",
       "1  58.0       1         0           0                   0         1   \n",
       "2  41.0       1         1           0                   0         1   \n",
       "3  45.0       1         0           0                   1         1   \n",
       "4  60.0       1         1           1                   1         1   \n",
       "\n",
       "   Polyphagia  Genital thrush  visual blurring  Itching  Irritability  \\\n",
       "0           0               0                0        1             0   \n",
       "1           0               0                1        0             0   \n",
       "2           1               0                0        1             0   \n",
       "3           1               1                0        1             0   \n",
       "4           1               0                1        1             1   \n",
       "\n",
       "   delayed healing  partial paresis  muscle stiffness  Alopecia  Obesity  \n",
       "0                1                0                 1         1        1  \n",
       "1                0                1                 0         1        0  \n",
       "2                1                0                 1         1        0  \n",
       "3                1                0                 0         0        0  \n",
       "4                1                1                 1         1        1  "
      ]
     },
     "execution_count": 22,
     "metadata": {},
     "output_type": "execute_result"
    }
   ],
   "source": [
    "X.head()"
   ]
  },
  {
   "cell_type": "code",
   "execution_count": 23,
   "id": "fb3d9ac2-4e34-46f6-bb8f-9acaa34e8b2b",
   "metadata": {},
   "outputs": [
    {
     "data": {
      "text/plain": [
       "Age                   0\n",
       "Gender                0\n",
       "Polyuria              0\n",
       "Polydipsia            0\n",
       "sudden weight loss    0\n",
       "weakness              0\n",
       "Polyphagia            0\n",
       "Genital thrush        0\n",
       "visual blurring       0\n",
       "Itching               0\n",
       "Irritability          0\n",
       "delayed healing       0\n",
       "partial paresis       0\n",
       "muscle stiffness      0\n",
       "Alopecia              0\n",
       "Obesity               0\n",
       "dtype: int64"
      ]
     },
     "execution_count": 23,
     "metadata": {},
     "output_type": "execute_result"
    }
   ],
   "source": [
    "X.dropna(how=\"any\", inplace=True)\n",
    "X.isna().sum()"
   ]
  },
  {
   "cell_type": "code",
   "execution_count": 24,
   "id": "ed5eca9a-cf0b-44c9-9885-d0e8d656a796",
   "metadata": {},
   "outputs": [],
   "source": [
    "X_train, X_test, y_train, y_test = train_test_split(X, y)"
   ]
  },
  {
   "cell_type": "markdown",
   "id": "ba14e285-7046-4613-99a5-3b0f257a9309",
   "metadata": {},
   "source": [
    "## We are going to try out different model and check the f1 score of each algorithms"
   ]
  },
  {
   "cell_type": "code",
   "execution_count": 25,
   "id": "1e86ea6a-766c-476b-b1e0-29086ed80d31",
   "metadata": {},
   "outputs": [
    {
     "name": "stdout",
     "output_type": "stream",
     "text": [
      "Loading model that can be used for inference only\n",
      "Using a Transformer with 25.82 M parameters\n",
      "Train KNN\n",
      "List of scores for KNN: [0.91304348 0.83146067 0.86363636 0.84444444 0.83870968]\n",
      "The mean score for KNN: 0.8582589275836672\n",
      "-------------The End------------------\n",
      "Train RF\n",
      "List of scores for RF: [0.98969072 1.         0.98969072 1.         0.94      ]\n",
      "The mean score for RF: 0.9838762886597939\n",
      "-------------The End------------------\n",
      "Train GB\n",
      "List of scores for GB: [0.97959184 1.         0.94623656 0.98969072 0.95833333]\n",
      "The mean score for GB: 0.9747704901714593\n",
      "-------------The End------------------\n",
      "Train DTC\n",
      "List of scores for DTC: [0.96842105 0.95744681 0.95918367 0.98947368 0.96907216]\n",
      "The mean score for DTC: 0.968719476754117\n",
      "-------------The End------------------\n",
      "Train HGB\n",
      "List of scores for HGB: [0.96907216 0.92783505 1.         0.95744681 0.96774194]\n",
      "The mean score for HGB: 0.964419192097871\n",
      "-------------The End------------------\n",
      "Train ADB\n",
      "List of scores for ADB: [0.93617021 0.93877551 0.9375     0.96       0.93877551]\n",
      "The mean score for ADB: 0.9422442466348242\n",
      "-------------The End------------------\n",
      "Train Tabpfn\n",
      "Loading model that can be used for inference only\n",
      "Using a Transformer with 25.82 M parameters\n",
      "Loading model that can be used for inference only\n",
      "Using a Transformer with 25.82 M parameters\n",
      "Loading model that can be used for inference only\n",
      "Using a Transformer with 25.82 M parameters\n",
      "Loading model that can be used for inference only\n",
      "Using a Transformer with 25.82 M parameters\n",
      "Loading model that can be used for inference only\n",
      "Using a Transformer with 25.82 M parameters\n",
      "List of scores for Tabpfn: [0.94949495 0.98969072 1.         0.98969072 0.98969072]\n",
      "The mean score for Tabpfn: 0.9837134228886807\n",
      "-------------The End------------------\n"
     ]
    }
   ],
   "source": [
    "kf = StratifiedKFold(n_splits=5, shuffle=True)\n",
    "models = {\n",
    "    \"KNN\": KNeighborsClassifier(),\n",
    "    \"RF\": RandomForestClassifier(),\n",
    "    \"GB\": GradientBoostingClassifier(),\n",
    "    \"DTC\": DecisionTreeClassifier(),\n",
    "    \"HGB\": HistGradientBoostingClassifier(),\n",
    "    \"ADB\": AdaBoostClassifier(),\n",
    "    \"Tabpfn\": TabPFNClassifier(N_ensemble_configurations=24),\n",
    "}\n",
    "\n",
    "\n",
    "for model_name, model in models.items():\n",
    "    print(\"Train {}\".format(model_name))\n",
    "    # cross_val_score for each classifier\n",
    "    scores = cross_val_score(model, X_train, y_train, cv=kf, scoring=\"f1\")\n",
    "\n",
    "    print(\"List of scores for {}: {}\".format(model_name, scores))\n",
    "    print(\"The mean score for {}: {}\".format(model_name, scores.mean()))\n",
    "    print(\"-------------The End------------------\")"
   ]
  },
  {
   "cell_type": "markdown",
   "id": "8a20f319-de3d-469f-9782-c2dfe6ee0b84",
   "metadata": {},
   "source": [
    "# Decision tree Algorithm"
   ]
  },
  {
   "cell_type": "code",
   "execution_count": 26,
   "id": "ac929774-3061-4f7e-8da0-7074ecbd1a5c",
   "metadata": {},
   "outputs": [],
   "source": [
    "dt = DecisionTreeClassifier()\n",
    "dt.fit(X_train, y_train)\n",
    "y_pred_dt = dt.predict(X_test)\n",
    "\n",
    "f1_dt = f1_score(y_test, y_pred_dt)\n",
    "precision_score_dt = precision_score(y_test, y_pred_dt)\n",
    "recall_df = recall_score(y_test, y_pred_dt)\n",
    "accuracy_score_dt = accuracy_score(y_test, y_pred_dt)"
   ]
  },
  {
   "cell_type": "code",
   "execution_count": 27,
   "id": "68fa21e4-43fa-4d56-832a-f984c02af677",
   "metadata": {},
   "outputs": [
    {
     "name": "stdout",
     "output_type": "stream",
     "text": [
      "Accuracy of dt: 0.9615384615384616\n",
      "precision of dt: 0.95\n",
      "f1 of dt: 0.9681528662420381\n",
      "recall of df: 0.987012987012987\n"
     ]
    }
   ],
   "source": [
    "print(f\"Accuracy of dt: {accuracy_score_dt}\")\n",
    "print(f\"precision of dt: {precision_score_dt}\")\n",
    "print(f\"f1 of dt: {f1_dt}\")\n",
    "print(f\"recall of df: {recall_df}\")"
   ]
  },
  {
   "cell_type": "markdown",
   "id": "045182da-c6ff-4966-a939-d8569bb8722d",
   "metadata": {},
   "source": [
    "## Classification report for decision tree."
   ]
  },
  {
   "cell_type": "code",
   "execution_count": 28,
   "id": "ebb7e240-23e2-4352-9dab-3b55eb4d18c5",
   "metadata": {},
   "outputs": [
    {
     "name": "stdout",
     "output_type": "stream",
     "text": [
      "              precision    recall  f1-score   support\n",
      "\n",
      "         0.0       0.98      0.92      0.95        53\n",
      "         1.0       0.95      0.99      0.97        77\n",
      "\n",
      "    accuracy                           0.96       130\n",
      "   macro avg       0.96      0.96      0.96       130\n",
      "weighted avg       0.96      0.96      0.96       130\n",
      "\n"
     ]
    }
   ],
   "source": [
    "print(classification_report(y_test, y_pred_dt))"
   ]
  },
  {
   "cell_type": "markdown",
   "id": "8a4f24b5-3ad0-49a5-a10c-a84187d15c98",
   "metadata": {},
   "source": [
    "# Random Forest Algorithm"
   ]
  },
  {
   "cell_type": "code",
   "execution_count": 29,
   "id": "ea8476c1-cfb1-480e-b927-635330d2469c",
   "metadata": {},
   "outputs": [],
   "source": [
    "rfc = RandomForestClassifier(\n",
    "    n_estimators=200,\n",
    ")\n",
    "rfc.fit(X_train, y_train)\n",
    "y_pred_rfc = rfc.predict(X_test)\n",
    "\n",
    "f1_rfc = f1_score(y_test, y_pred_rfc)\n",
    "precision_score_rfc = precision_score(y_test, y_pred_rfc)\n",
    "recall_rfc = recall_score(y_test, y_pred_rfc)\n",
    "accuracy_score_rfc = accuracy_score(y_test, y_pred_rfc)"
   ]
  },
  {
   "cell_type": "code",
   "execution_count": 30,
   "id": "77fbf30e-e5ca-4318-9226-39f7c11bf397",
   "metadata": {},
   "outputs": [
    {
     "name": "stdout",
     "output_type": "stream",
     "text": [
      "Accuracy of rfc: 0.9769230769230769\n",
      "precision of rfc: 0.9625\n",
      "f1 of rfc: 0.980891719745223\n",
      "recall of rfc: 1.0\n"
     ]
    }
   ],
   "source": [
    "print(f\"Accuracy of rfc: {accuracy_score_rfc}\")\n",
    "print(f\"precision of rfc: {precision_score_rfc}\")\n",
    "print(f\"f1 of rfc: {f1_rfc}\")\n",
    "print(f\"recall of rfc: {recall_rfc}\")"
   ]
  },
  {
   "cell_type": "markdown",
   "id": "db98c5df-dcc5-4bab-816d-8696ab35ef5f",
   "metadata": {},
   "source": [
    "# Logistic Regression"
   ]
  },
  {
   "cell_type": "code",
   "execution_count": 31,
   "id": "1a5e5b32-fe4a-4388-87ac-d8681f681090",
   "metadata": {},
   "outputs": [
    {
     "name": "stderr",
     "output_type": "stream",
     "text": [
      "/home/balde/.local/lib/python3.10/site-packages/sklearn/linear_model/_logistic.py:444: ConvergenceWarning: lbfgs failed to converge (status=1):\n",
      "STOP: TOTAL NO. of ITERATIONS REACHED LIMIT.\n",
      "\n",
      "Increase the number of iterations (max_iter) or scale the data as shown in:\n",
      "    https://scikit-learn.org/stable/modules/preprocessing.html\n",
      "Please also refer to the documentation for alternative solver options:\n",
      "    https://scikit-learn.org/stable/modules/linear_model.html#logistic-regression\n",
      "  n_iter_i = _check_optimize_result(\n"
     ]
    }
   ],
   "source": [
    "lg = LogisticRegression()\n",
    "lg.fit(X_train, y_train)\n",
    "y_pred_lg = lg.predict(X_test)\n",
    "\n",
    "f1_lg = f1_score(y_test, y_pred_lg)\n",
    "precision_score_lg = precision_score(y_test, y_pred_lg)\n",
    "recall_lg = recall_score(y_test, y_pred_lg)\n",
    "accuracy_score_lg = accuracy_score(y_test, y_pred_lg)"
   ]
  },
  {
   "cell_type": "code",
   "execution_count": 32,
   "id": "1261fc57-3e3a-4756-a71f-4b5d9494e2c2",
   "metadata": {},
   "outputs": [
    {
     "name": "stdout",
     "output_type": "stream",
     "text": [
      "Accuracy of lg: 0.9230769230769231\n",
      "precision of lg: 0.9135802469135802\n",
      "f1 of lg: 0.9367088607594937\n",
      "recall of lg: 0.961038961038961\n"
     ]
    }
   ],
   "source": [
    "print(f\"Accuracy of lg: {accuracy_score_lg}\")\n",
    "print(f\"precision of lg: {precision_score_lg}\")\n",
    "print(f\"f1 of lg: {f1_lg}\")\n",
    "print(f\"recall of lg: {recall_lg}\")"
   ]
  },
  {
   "cell_type": "markdown",
   "id": "9312e0c1-b1d1-455e-9025-0c87295ac544",
   "metadata": {},
   "source": [
    "# Gradient Boosting tree"
   ]
  },
  {
   "cell_type": "code",
   "execution_count": 33,
   "id": "a9c7c592-07c0-4cc0-8f0d-c61419649dfb",
   "metadata": {},
   "outputs": [],
   "source": [
    "gbc = GradientBoostingClassifier(n_estimators=200, random_state=42)\n",
    "gbc.fit(X_train, y_train)\n",
    "y_pred_gbc = gbc.predict(X_test)\n",
    "\n",
    "f1_gbc = f1_score(y_test, y_pred_gbc)\n",
    "precision_score_gbc = precision_score(y_test, y_pred_gbc)\n",
    "recall_gbc = recall_score(y_test, y_pred_gbc)\n",
    "accuracy_score_gbc = accuracy_score(y_test, y_pred_gbc)"
   ]
  },
  {
   "cell_type": "code",
   "execution_count": 34,
   "id": "a591a769-981a-42e0-82bd-cf1e691689bf",
   "metadata": {},
   "outputs": [
    {
     "name": "stdout",
     "output_type": "stream",
     "text": [
      "Accuracy of gbc: 0.9692307692307692\n",
      "precision of gbc: 0.9620253164556962\n",
      "f1 of gbc: 0.9743589743589742\n",
      "recall of gbc: 0.987012987012987\n"
     ]
    }
   ],
   "source": [
    "print(f\"Accuracy of gbc: {accuracy_score_gbc}\")\n",
    "print(f\"precision of gbc: {precision_score_gbc}\")\n",
    "print(f\"f1 of gbc: {f1_gbc}\")\n",
    "print(f\"recall of gbc: {recall_gbc}\")"
   ]
  },
  {
   "cell_type": "markdown",
   "id": "b12b6666-df50-4dca-9059-9e99abfcbd0a",
   "metadata": {},
   "source": [
    "#  Histogram-based Gradient Boosting"
   ]
  },
  {
   "cell_type": "code",
   "execution_count": 35,
   "id": "6a508242-b6ff-41a7-a49c-aa9092eec453",
   "metadata": {},
   "outputs": [],
   "source": [
    "hg = HistGradientBoostingClassifier()\n",
    "hg.fit(X_train, y_train)\n",
    "y_pred_hg = hg.predict(X_test)\n",
    "\n",
    "f1_hg = f1_score(y_test, y_pred_hg)\n",
    "precision_score_hg = precision_score(y_test, y_pred_hg)\n",
    "recall_hg = recall_score(y_test, y_pred_hg)\n",
    "accuracy_score_hg = accuracy_score(y_test, y_pred_hg)"
   ]
  },
  {
   "cell_type": "code",
   "execution_count": 36,
   "id": "aa724d7c-664f-4e1d-bcdf-4d824a8c47bf",
   "metadata": {},
   "outputs": [
    {
     "name": "stdout",
     "output_type": "stream",
     "text": [
      "Accuracy of hg: 0.9538461538461539\n",
      "precision of hg: 0.961038961038961\n",
      "f1 of hg: 0.961038961038961\n",
      "recall of hg : 0.961038961038961\n"
     ]
    }
   ],
   "source": [
    "print(f\"Accuracy of hg: {accuracy_score_hg}\")\n",
    "print(f\"precision of hg: {precision_score_hg}\")\n",
    "print(f\"f1 of hg: {f1_hg}\")\n",
    "print(f\"recall of hg : {recall_hg}\")"
   ]
  },
  {
   "cell_type": "markdown",
   "id": "7c7cbb51-eb08-41da-b16c-f30bb7b53c92",
   "metadata": {},
   "source": [
    "# SVM"
   ]
  },
  {
   "cell_type": "code",
   "execution_count": 37,
   "id": "dd773e01-c267-4b1b-91c2-09cf79467208",
   "metadata": {},
   "outputs": [
    {
     "name": "stdout",
     "output_type": "stream",
     "text": [
      "Accuracy of svm: 0.5923076923076923\n",
      "precision of svm: 0.5923076923076923\n",
      "f1 of svm: 0.7439613526570048\n",
      "recall of svm : 1.0\n"
     ]
    }
   ],
   "source": [
    "svm = SVC()\n",
    "svm.fit(X_train, y_train)\n",
    "y_pred_svm = svm.predict(X_test)\n",
    "\n",
    "f1_svm = f1_score(y_test, y_pred_svm)\n",
    "precision_score_svm = precision_score(y_test, y_pred_svm)\n",
    "recall_svm = recall_score(y_test, y_pred_svm)\n",
    "accuracy_score_svm = accuracy_score(y_test, y_pred_svm)\n",
    "\n",
    "print(f\"Accuracy of svm: {accuracy_score_svm}\")\n",
    "print(f\"precision of svm: {precision_score_svm}\")\n",
    "print(f\"f1 of svm: {f1_svm}\")\n",
    "print(f\"recall of svm : {recall_svm}\")"
   ]
  },
  {
   "cell_type": "markdown",
   "id": "513776b2-a09e-4598-8a3d-b41d8bbb9e66",
   "metadata": {
    "tags": []
   },
   "source": [
    "# Adaboost"
   ]
  },
  {
   "cell_type": "code",
   "execution_count": 38,
   "id": "0f18cc1b-f6d3-4cb1-819d-fbcd478bbf73",
   "metadata": {},
   "outputs": [
    {
     "name": "stdout",
     "output_type": "stream",
     "text": [
      "Accuracy of adb: 0.9384615384615385\n",
      "precision of adb: 0.9367088607594937\n",
      "f1 of adb: 0.9487179487179488\n",
      "recall of adb : 0.961038961038961\n"
     ]
    }
   ],
   "source": [
    "adb = AdaBoostClassifier()\n",
    "adb.fit(X_train, y_train)\n",
    "y_pred_adb = adb.predict(X_test)\n",
    "\n",
    "f1_adb = f1_score(y_test, y_pred_adb)\n",
    "precision_score_adb = precision_score(y_test, y_pred_adb)\n",
    "recall_adb = recall_score(y_test, y_pred_adb)\n",
    "accuracy_score_adb = accuracy_score(y_test, y_pred_adb)\n",
    "\n",
    "print(f\"Accuracy of adb: {accuracy_score_adb}\")\n",
    "print(f\"precision of adb: {precision_score_adb}\")\n",
    "print(f\"f1 of adb: {f1_adb}\")\n",
    "print(f\"recall of adb : {recall_adb}\")"
   ]
  },
  {
   "cell_type": "markdown",
   "id": "a55421d7-3ef6-4473-83b5-3a526033a9df",
   "metadata": {},
   "source": [
    "# KNN"
   ]
  },
  {
   "cell_type": "code",
   "execution_count": 39,
   "id": "ba20e049-716d-432a-9c4a-3f66e3762452",
   "metadata": {},
   "outputs": [
    {
     "name": "stdout",
     "output_type": "stream",
     "text": [
      "Accuracy of knn: 0.8153846153846154\n",
      "precision of knn: 0.8840579710144928\n",
      "f1 of knn: 0.8356164383561644\n",
      "recall of knn: 0.7922077922077922\n"
     ]
    }
   ],
   "source": [
    "knn = KNeighborsClassifier()\n",
    "knn.fit(X_train, y_train)\n",
    "y_pred_knn = knn.predict(X_test)\n",
    "\n",
    "f1_knn = f1_score(y_test, y_pred_knn)\n",
    "precision_score_knn = precision_score(y_test, y_pred_knn)\n",
    "recall_knn = recall_score(y_test, y_pred_knn)\n",
    "accuracy_score_knn = accuracy_score(y_test, y_pred_knn)\n",
    "print(f\"Accuracy of knn: {accuracy_score_knn}\")\n",
    "print(f\"precision of knn: {precision_score_knn}\")\n",
    "print(f\"f1 of knn: {f1_knn}\")\n",
    "print(f\"recall of knn: {recall_knn}\")"
   ]
  },
  {
   "cell_type": "markdown",
   "id": "36c8f504-b123-4d60-9447-b60bea7f9961",
   "metadata": {},
   "source": [
    "# Table of evaluation matrics"
   ]
  },
  {
   "cell_type": "code",
   "execution_count": 40,
   "id": "6f3ec8a9-44ca-4ff6-a7b0-ddb3e7789e1b",
   "metadata": {},
   "outputs": [
    {
     "data": {
      "text/html": [
       "<div>\n",
       "<style scoped>\n",
       "    .dataframe tbody tr th:only-of-type {\n",
       "        vertical-align: middle;\n",
       "    }\n",
       "\n",
       "    .dataframe tbody tr th {\n",
       "        vertical-align: top;\n",
       "    }\n",
       "\n",
       "    .dataframe thead th {\n",
       "        text-align: right;\n",
       "    }\n",
       "</style>\n",
       "<table border=\"1\" class=\"dataframe\">\n",
       "  <thead>\n",
       "    <tr style=\"text-align: right;\">\n",
       "      <th></th>\n",
       "      <th>Algoritm</th>\n",
       "      <th>Accuracy</th>\n",
       "      <th>F1 score</th>\n",
       "      <th>Precision</th>\n",
       "      <th>Recall</th>\n",
       "    </tr>\n",
       "  </thead>\n",
       "  <tbody>\n",
       "    <tr>\n",
       "      <th>0</th>\n",
       "      <td>Logistc Regression</td>\n",
       "      <td>0.923077</td>\n",
       "      <td>0.936709</td>\n",
       "      <td>0.913580</td>\n",
       "      <td>0.961039</td>\n",
       "    </tr>\n",
       "    <tr>\n",
       "      <th>1</th>\n",
       "      <td>Random Forest</td>\n",
       "      <td>0.976923</td>\n",
       "      <td>0.980892</td>\n",
       "      <td>0.962500</td>\n",
       "      <td>1.000000</td>\n",
       "    </tr>\n",
       "    <tr>\n",
       "      <th>2</th>\n",
       "      <td>Gradient Boosting</td>\n",
       "      <td>0.969231</td>\n",
       "      <td>0.974359</td>\n",
       "      <td>0.962025</td>\n",
       "      <td>0.987013</td>\n",
       "    </tr>\n",
       "    <tr>\n",
       "      <th>3</th>\n",
       "      <td>Decision tree</td>\n",
       "      <td>0.961538</td>\n",
       "      <td>0.968153</td>\n",
       "      <td>0.950000</td>\n",
       "      <td>0.987013</td>\n",
       "    </tr>\n",
       "    <tr>\n",
       "      <th>4</th>\n",
       "      <td>KNN</td>\n",
       "      <td>0.815385</td>\n",
       "      <td>0.835616</td>\n",
       "      <td>0.884058</td>\n",
       "      <td>0.792208</td>\n",
       "    </tr>\n",
       "    <tr>\n",
       "      <th>5</th>\n",
       "      <td>Historgam Gradient Boosting</td>\n",
       "      <td>0.953846</td>\n",
       "      <td>0.961039</td>\n",
       "      <td>0.961039</td>\n",
       "      <td>0.961039</td>\n",
       "    </tr>\n",
       "    <tr>\n",
       "      <th>6</th>\n",
       "      <td>Adaboost</td>\n",
       "      <td>0.938462</td>\n",
       "      <td>0.948718</td>\n",
       "      <td>0.936709</td>\n",
       "      <td>0.961039</td>\n",
       "    </tr>\n",
       "    <tr>\n",
       "      <th>7</th>\n",
       "      <td>SVM</td>\n",
       "      <td>0.592308</td>\n",
       "      <td>0.743961</td>\n",
       "      <td>0.592308</td>\n",
       "      <td>1.000000</td>\n",
       "    </tr>\n",
       "  </tbody>\n",
       "</table>\n",
       "</div>"
      ],
      "text/plain": [
       "                      Algoritm  Accuracy  F1 score  Precision    Recall\n",
       "0           Logistc Regression  0.923077  0.936709   0.913580  0.961039\n",
       "1                Random Forest  0.976923  0.980892   0.962500  1.000000\n",
       "2            Gradient Boosting  0.969231  0.974359   0.962025  0.987013\n",
       "3                Decision tree  0.961538  0.968153   0.950000  0.987013\n",
       "4                          KNN  0.815385  0.835616   0.884058  0.792208\n",
       "5  Historgam Gradient Boosting  0.953846  0.961039   0.961039  0.961039\n",
       "6                     Adaboost  0.938462  0.948718   0.936709  0.961039\n",
       "7                          SVM  0.592308  0.743961   0.592308  1.000000"
      ]
     },
     "execution_count": 40,
     "metadata": {},
     "output_type": "execute_result"
    }
   ],
   "source": [
    "scores = pd.DataFrame(\n",
    "    {\n",
    "        \"Algoritm\": [\n",
    "            \"Logistc Regression\",\n",
    "            \"Random Forest\",\n",
    "            \"Gradient Boosting\",\n",
    "            \"Decision tree\",\n",
    "            \"KNN\",\n",
    "            \"Historgam Gradient Boosting\",\n",
    "            \"Adaboost\",\n",
    "            \"SVM\",\n",
    "        ],\n",
    "        \"Accuracy\": [\n",
    "            accuracy_score_lg,\n",
    "            accuracy_score_rfc,\n",
    "            accuracy_score_gbc,\n",
    "            accuracy_score_dt,\n",
    "            accuracy_score_knn,\n",
    "            accuracy_score_hg,\n",
    "            accuracy_score_adb,\n",
    "            accuracy_score_svm,\n",
    "        ],\n",
    "        \"F1 score\": [\n",
    "            f1_lg,\n",
    "            f1_rfc,\n",
    "            f1_gbc,\n",
    "            f1_dt,\n",
    "            f1_knn,\n",
    "            f1_hg,\n",
    "            f1_adb,\n",
    "            f1_svm,\n",
    "        ],\n",
    "        \"Precision\": [\n",
    "            precision_score_lg,\n",
    "            precision_score_rfc,\n",
    "            precision_score_gbc,\n",
    "            precision_score_dt,\n",
    "            precision_score_knn,\n",
    "            precision_score_hg,\n",
    "            precision_score_adb,\n",
    "            precision_score_svm,\n",
    "        ],\n",
    "        \"Recall\": [\n",
    "            recall_lg,\n",
    "            recall_rfc,\n",
    "            recall_gbc,\n",
    "            recall_df,\n",
    "            recall_knn,\n",
    "            recall_hg,\n",
    "            recall_adb,\n",
    "            recall_svm,\n",
    "        ],\n",
    "    }\n",
    ")\n",
    "\n",
    "scores"
   ]
  },
  {
   "cell_type": "code",
   "execution_count": 41,
   "id": "6755c555-6b41-4bd1-861a-7af1df7d4398",
   "metadata": {},
   "outputs": [
    {
     "data": {
      "image/png": "[encoded data removed]",
      "text/plain": [
       "<Figure size 640x480 with 1 Axes>"
      ]
     },
     "metadata": {},
     "output_type": "display_data"
    }
   ],
   "source": [
    "ax = scores.plot.bar()\n",
    "ax\n",
    "ax.set_xticklabels(\n",
    "    [\n",
    "        \"Logistc Regression\",\n",
    "        \"Random Forest\",\n",
    "        \"Gradient Boosting\",\n",
    "        \"Decision tree\",\n",
    "        \"KNN\",\n",
    "        \"Histo Gradient Boosting\",\n",
    "        \"Adaboost\",\n",
    "        \"SVM\",\n",
    "    ]\n",
    ")\n",
    "ax.set_title(\"Scores\")\n",
    "plt.setp(ax.xaxis.get_majorticklabels(), rotation=-45, ha=\"left\", weight=\"bold\")\n",
    "plt.show()"
   ]
  },
  {
   "cell_type": "code",
   "execution_count": 43,
   "id": "fde853ce-0b21-4049-9ed6-60b9fa4ce274",
   "metadata": {},
   "outputs": [
    {
     "name": "stderr",
     "output_type": "stream",
     "text": [
      "/home/balde/miniconda3/envs/torch/lib/python3.10/site-packages/scikitplot/plotters.py:33: DeprecationWarning: This module was deprecated in version 0.3.0 and its functions are spread throughout different modules. Please check the documentation and update your function calls as soon as possible. This module will be removed in 0.4.0\n",
      "  warnings.warn(\"This module was deprecated in version 0.3.0 and its functions \"\n",
      "/home/balde/miniconda3/envs/torch/lib/python3.10/site-packages/scikitplot/metrics.py:766: MatplotlibDeprecationWarning: The get_cmap function was deprecated in Matplotlib 3.7 and will be removed two minor releases later. Use ``matplotlib.colormaps[name]`` or ``matplotlib.colormaps.get_cmap(obj)`` instead.\n",
      "  color = plt.cm.get_cmap(cmap)(float(i) / len(classes))\n",
      "/home/balde/miniconda3/envs/torch/lib/python3.10/site-packages/scikitplot/metrics.py:766: MatplotlibDeprecationWarning: The get_cmap function was deprecated in Matplotlib 3.7 and will be removed two minor releases later. Use ``matplotlib.colormaps[name]`` or ``matplotlib.colormaps.get_cmap(obj)`` instead.\n",
      "  color = plt.cm.get_cmap(cmap)(float(i) / len(classes))\n"
     ]
    },
    {
     "data": {
      "image/png": "[encoded data removed]",
      "text/plain": [
       "<Figure size 640x480 with 1 Axes>"
      ]
     },
     "metadata": {},
     "output_type": "display_data"
    }
   ],
   "source": [
    "import scikitplot as skplt\n",
    "\n",
    "rf = RandomForestClassifier()\n",
    "rf.fit(X_train, y_train)\n",
    "y_probas = rf.predict_proba(X_test)\n",
    "skplt.metrics.plot_precision_recall(y_test, y_probas)\n",
    "plt.show()"
   ]
  },
  {
   "cell_type": "code",
   "execution_count": 44,
   "id": "0d2899d3-1d99-47ab-bfe0-4a8ed2fc4478",
   "metadata": {},
   "outputs": [
    {
     "data": {
      "image/png": "[encoded data removed]",
      "text/plain": [
       "<Figure size 640x480 with 1 Axes>"
      ]
     },
     "metadata": {},
     "output_type": "display_data"
    }
   ],
   "source": [
    "rf = RandomForestClassifier()\n",
    "rf = rf.fit(X_train, y_train)\n",
    "y_probas = rf.predict_proba(X_test)\n",
    "skplt.metrics.plot_cumulative_gain(y_test, y_probas)\n",
    "plt.show()"
   ]
  },
  {
   "cell_type": "code",
   "execution_count": 45,
   "id": "401208c9-936a-4e16-9bc0-06819591f74a",
   "metadata": {},
   "outputs": [
    {
     "data": {
      "text/plain": [
       "<Axes: title={'center': 'Learning Curve'}, xlabel='Training examples', ylabel='Score'>"
      ]
     },
     "execution_count": 45,
     "metadata": {},
     "output_type": "execute_result"
    },
    {
     "data": {
      "image/png": "[encoded data removed]",
      "text/plain": [
       "<Figure size 640x480 with 1 Axes>"
      ]
     },
     "metadata": {},
     "output_type": "display_data"
    }
   ],
   "source": [
    "skplt.estimators.plot_learning_curve(rf, X, y)"
   ]
  },
  {
   "cell_type": "code",
   "execution_count": 46,
   "id": "632b63aa-eaac-46a2-a0d2-c66e58b85379",
   "metadata": {},
   "outputs": [
    {
     "data": {
      "text/plain": [
       "<Axes: title={'center': 'Learning Curve'}, xlabel='Training examples', ylabel='Score'>"
      ]
     },
     "execution_count": 46,
     "metadata": {},
     "output_type": "execute_result"
    },
    {
     "data": {
      "image/png": "[encoded data removed]",
      "text/plain": [
       "<Figure size 640x480 with 1 Axes>"
      ]
     },
     "metadata": {},
     "output_type": "display_data"
    }
   ],
   "source": [
    "skplt.estimators.plot_learning_curve(dt, X, y)"
   ]
  },
  {
   "cell_type": "code",
   "execution_count": null,
   "id": "5a2ccc3a-d60a-4c5f-a658-00b04c4a3763",
   "metadata": {},
   "outputs": [],
   "source": []
  }
 ],
 "metadata": {
  "kernelspec": {
   "display_name": "Python 3 (ipykernel)",
   "language": "python",
   "name": "python3"
  },
  "language_info": {
   "codemirror_mode": {
    "name": "ipython",
    "version": 3
   },
   "file_extension": ".py",
   "mimetype": "text/x-python",
   "name": "python",
   "nbconvert_exporter": "python",
   "pygments_lexer": "ipython3",
   "version": "3.10.8"
  }
 },
 "nbformat": 4,
 "nbformat_minor": 5
}
